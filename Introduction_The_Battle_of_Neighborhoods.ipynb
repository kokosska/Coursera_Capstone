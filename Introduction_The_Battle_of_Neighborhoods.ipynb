{
 "cells": [
  {
   "cell_type": "markdown",
   "metadata": {},
   "source": [
    "# The Battle of Neighborhoods"
   ]
  },
  {
   "cell_type": "markdown",
   "metadata": {},
   "source": [
    "This notebook is a part of my Applied Data Science Professional Certification from IBM at Coursera."
   ]
  },
  {
   "cell_type": "markdown",
   "metadata": {},
   "source": [
    "## Introduction: Business Problem"
   ]
  },
  {
   "cell_type": "markdown",
   "metadata": {},
   "source": [
    "Toronto -  the city of possibilities. Toronto is Canada’s largest city and a world leader in such areas as business, finance, technology, entertainment and culture. Its large population of immigrants from all over the globe has also made Toronto one of the most multicultural cities in the world. This veracity can be seen in the name of Toronto’s neighbourhoods like: Little Japan, east Chinatown, Greektown, Corso Italia and many more. What also distinguishes Toronto is the fact that it is the most populous city in Canada and the fourth most populous city in North America.  According to the information’s set at Wikipedia page the population of the city is over 6 billions. All these factors make Toronto an attractive place to live, work or start a business. What is definitely worth mentioning is the fact that thanks to the multiculturalism of this city, we are able to taste the best flavors of cuisines from around the world."
   ]
  },
  {
   "cell_type": "markdown",
   "metadata": {},
   "source": [
    "In this project I will use Foursquare location data and machine learning clustering algorithm to find the best place, the best neighborhood in Toronto to open a Italian restaurant. I will find the most suitable location for an entrepreneur to open a new Italian restaurant serving delicious Italian food in Toronto, Canada. "
   ]
  },
  {
   "cell_type": "markdown",
   "metadata": {},
   "source": [
    "I would like also to find not only the best place to open a Italian restaurant in Toronto but I will also perform regression model to determine the factors that play a crucial role in achieving business success. "
   ]
  },
  {
   "cell_type": "markdown",
   "metadata": {},
   "source": [
    "## Problem Description"
   ]
  },
  {
   "cell_type": "markdown",
   "metadata": {},
   "source": [
    "Imagine a situation where there is a descendant of immigrants from Italy (let's call him Paul) and he is currently living in the most density city in Canada - Toronto. This Italy-Canadian person have a lots of doubts where is the best place to open his bussiness - an italian taverna called 'Rosa Gusto'. Through this analysis I will help Paul make a decision to choose the best neithborhood in Toronto for his italian taverna and also determine which factors could be crucial and important to maximalize his bussiness success.  "
   ]
  },
  {
   "cell_type": "markdown",
   "metadata": {},
   "source": [
    "## Target Audience"
   ]
  },
  {
   "cell_type": "markdown",
   "metadata": {},
   "source": [
    "The aimed audience for this project could be an entrepreneur or bussiness owner who want to open a Italian restaurant in Toronto or who is interesting to improve the busisiness proficiey of exsisting bussines."
   ]
  },
  {
   "cell_type": "markdown",
   "metadata": {},
   "source": [
    "I believe that the result of this analysis will be beneficial for mentioned groups."
   ]
  },
  {
   "cell_type": "markdown",
   "metadata": {},
   "source": [
    "## Data "
   ]
  },
  {
   "cell_type": "markdown",
   "metadata": {},
   "source": [
    "1. List of postal codes from Toronto \n",
    "    - Data will be collected from [wikipedia page](https://en.wikipedia.org/w/index.php?title=List_of_postal_codes_of_Canada:_M&oldid=945633050)\n",
    "2. Geographical coordinates \n",
    "    - GeoSpatial Dataset will be use with information about coordinates of neighborhoods of Toronto\n",
    "3. Foursquare API to explore neighborhoods in Toronto\n",
    "    - Acquired data from [Foursquare page](https://foursquare.com/city-guide) will help me to explore the neighborhoods of Toronto\n",
    "4. Yelp dataset provided by [Codecademy](https://www.codecademy.com/learn/machine-learning/modules/yelp-regression-project) as a part of my Data Scientist Career Path\n",
    "    - Dataset will be used in this project only for academic purpose as this notebook is a part of my IBM Professional Certification"
   ]
  },
  {
   "cell_type": "code",
   "execution_count": null,
   "metadata": {},
   "outputs": [],
   "source": []
  }
 ],
 "metadata": {
  "kernelspec": {
   "display_name": "Python 3",
   "language": "python",
   "name": "python3"
  },
  "language_info": {
   "codemirror_mode": {
    "name": "ipython",
    "version": 3
   },
   "file_extension": ".py",
   "mimetype": "text/x-python",
   "name": "python",
   "nbconvert_exporter": "python",
   "pygments_lexer": "ipython3",
   "version": "3.8.3"
  }
 },
 "nbformat": 4,
 "nbformat_minor": 4
}
