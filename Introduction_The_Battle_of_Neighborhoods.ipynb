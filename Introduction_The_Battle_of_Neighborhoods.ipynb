{
 "cells": [
  {
   "cell_type": "markdown",
   "metadata": {},
   "source": [
    "# The Battle of Neighborhoods"
   ]
  },
  {
   "cell_type": "markdown",
   "metadata": {},
   "source": [
    "# Analysis of Opening Japanese Restaurant in Toronto"
   ]
  },
  {
   "cell_type": "markdown",
   "metadata": {},
   "source": [
    "This notebook is a part of my Applied Data Science Professional Certification from IBM at Coursera."
   ]
  },
  {
   "cell_type": "markdown",
   "metadata": {},
   "source": [
    "## 1. Introduction"
   ]
  },
  {
   "cell_type": "markdown",
   "metadata": {},
   "source": [
    "### 1.1.  Background"
   ]
  },
  {
   "cell_type": "markdown",
   "metadata": {},
   "source": [
    "Toronto -  the city of possibilities. Toronto is Canada’s largest city and a world leader in such areas as business, finance, technology, entertainment and culture. Its large population of immigrants from all over the globe has also made Toronto one of the most multicultural cities in the world. This veracity can be seen in the name of Toronto’s neighbourhoods like: Little Japan, east Chinatown, Greektown, Corso Italia and many more. What also distinguishes Toronto is the fact that it is the most populous city in Canada and the fourth most populous city in North America.  According to the information’s set at Wikipedia page the population of the city is over 6 billions. All these factors make Toronto an attractive place to live, work or start a business. What is definitely worth mentioning is the fact that thanks to the multiculturalism of this city, we are able to taste the best flavors of cuisines from around the world."
   ]
  },
  {
   "cell_type": "markdown",
   "metadata": {},
   "source": [
    "### 1.2.Problem Description"
   ]
  },
  {
   "cell_type": "markdown",
   "metadata": {},
   "source": [
    "Imagine a situation where there is a descendant of immigrants from Japan (let's call him Paul) and he is currently living in the most density city in Canada - Toronto. Paul has a lot of doubts where he should open his bussiness. Through this analysis I will help Paul make a decision to choose the best neithborhood in Toronto for his japanese restaurant. "
   ]
  },
  {
   "cell_type": "markdown",
   "metadata": {},
   "source": [
    "### 1.3. Target Audience"
   ]
  },
  {
   "cell_type": "markdown",
   "metadata": {},
   "source": [
    "The aimed audience for this project could be an entrepreneur or bussiness owner who want to open a Japanese restaurant in Toronto or who is interesting to improve the busisiness proficiey of exsisting bussines."
   ]
  },
  {
   "cell_type": "markdown",
   "metadata": {},
   "source": [
    "I believe that the result of this analysis will be beneficial for mentioned groups."
   ]
  },
  {
   "cell_type": "markdown",
   "metadata": {},
   "source": [
    "## 2. Data Preparation"
   ]
  },
  {
   "cell_type": "markdown",
   "metadata": {},
   "source": [
    "### 2.1. Data Sources"
   ]
  },
  {
   "cell_type": "markdown",
   "metadata": {},
   "source": [
    "In this project I will use Foursquare location data and machine learning clustering algorithm to find the best place, the best neighborhood in Toronto to open a Japanese restaurant. I will find the most suitable location for an entrepreneur to open a new Japanese restaurant in Toronto, Canada. "
   ]
  },
  {
   "cell_type": "markdown",
   "metadata": {},
   "source": [
    "For analysis in this project I will use the following data:"
   ]
  },
  {
   "cell_type": "markdown",
   "metadata": {},
   "source": [
    "1. List of postal codes from Toronto \n",
    "    - Data source: WebScrapping methods from [wikipedia page](https://en.wikipedia.org/w/index.php?title=List_of_postal_codes_of_Canada:_M&oldid=945633050)\n",
    "    - Data description: Dataset contains information about different borough and their neighborhoods in Toronto\n",
    "2. Geographical coordinates of each neighborhoods in Toronto \n",
    "    - Data source: csv file named `Geospatial_Coordinates.csv` provided by Coursera\n",
    "    - Data description: GeoSpatial Dataset will be use to get information about coordinates of neighborhoods of Toronto\n",
    "3. Japanese restaurants in each neighborhoods in Toronto\n",
    "    - Data source: Foursquare API\n",
    "    - Data description: By using Foursquare API I will get all venues in different neighborhoods in Toronto and filter it to only Italian restaurant\n",
    "4. Toronto GeoJSON file\n",
    "    - Data source: City of Toronto Open Data -  click [here](https://open.toronto.ca/dataset/neighbourhoods/)\n",
    "    - Data description: I will use this GeoJson file to create choropleth map for Toronto\n",
    "5. Immigration and ethnocultural diversity statistics\n",
    "    - Data source: City of Toronto Open Data - click [here](https://open.toronto.ca/dataset/neighbourhood-profiles/)\n",
    "    - Data description: I will use this information to create a population density choropleth map"
   ]
  },
  {
   "cell_type": "code",
   "execution_count": null,
   "metadata": {},
   "outputs": [],
   "source": []
  }
 ],
 "metadata": {
  "kernelspec": {
   "display_name": "Python 3",
   "language": "python",
   "name": "python3"
  },
  "language_info": {
   "codemirror_mode": {
    "name": "ipython",
    "version": 3
   },
   "file_extension": ".py",
   "mimetype": "text/x-python",
   "name": "python",
   "nbconvert_exporter": "python",
   "pygments_lexer": "ipython3",
   "version": "3.8.3"
  }
 },
 "nbformat": 4,
 "nbformat_minor": 4
}
